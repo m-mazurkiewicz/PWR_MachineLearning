{
  "nbformat": 4,
  "nbformat_minor": 0,
  "metadata": {
    "colab": {
      "name": "download_data.ipynb",
      "version": "0.3.2",
      "provenance": [],
      "include_colab_link": true
    },
    "kernelspec": {
      "name": "python3",
      "display_name": "Python 3"
    }
  },
  "cells": [
    {
      "cell_type": "markdown",
      "metadata": {
        "id": "view-in-github",
        "colab_type": "text"
      },
      "source": [
        "<a href=\"https://colab.research.google.com/github/m-mazurkiewicz/PWR_MachineLearning/blob/AlexNet_master/download_data.ipynb\" target=\"_parent\"><img src=\"https://colab.research.google.com/assets/colab-badge.svg\" alt=\"Open In Colab\"/></a>"
      ]
    },
    {
      "metadata": {
        "id": "-XUjsX7i2uu7",
        "colab_type": "code",
        "outputId": "a4afdbb2-bb59-49d3-843d-89488c6053f9",
        "colab": {
          "base_uri": "https://localhost:8080/",
          "height": 586
        }
      },
      "cell_type": "code",
      "source": [
        "!pip3 install imagenetscraper"
      ],
      "execution_count": 0,
      "outputs": [
        {
          "output_type": "stream",
          "text": [
            "Collecting imagenetscraper\n",
            "  Downloading https://files.pythonhosted.org/packages/12/f3/cd60374c220c2149ec50245be50d0a3d1a4fa176a4244e8d498b596e4c4a/imagenetscraper-1.0.1-py3-none-any.whl\n",
            "Collecting click (from imagenetscraper)\n",
            "\u001b[?25l  Downloading https://files.pythonhosted.org/packages/fa/37/45185cb5abbc30d7257104c434fe0b07e5a195a6847506c074527aa599ec/Click-7.0-py2.py3-none-any.whl (81kB)\n",
            "\u001b[K    100% |████████████████████████████████| 81kB 10.0MB/s \n",
            "\u001b[?25hRequirement already satisfied: defusedxml in /usr/local/lib/python3.6/dist-packages (from imagenetscraper) (0.5.0)\n",
            "Requirement already satisfied: requests in /usr/local/lib/python3.6/dist-packages (from imagenetscraper) (2.18.4)\n",
            "Requirement already satisfied: pillow in /usr/local/lib/python3.6/dist-packages (from imagenetscraper) (4.0.0)\n",
            "Collecting frogress (from imagenetscraper)\n",
            "  Downloading https://files.pythonhosted.org/packages/23/1e/d1498145bd80fc0b08cb35eeb1212c664d86efe91426ec83b0637901c0ef/frogress-0.9.1.tar.gz\n",
            "Collecting grequests (from imagenetscraper)\n",
            "  Downloading https://files.pythonhosted.org/packages/25/9f/dff6f21676ca5d3e806e60cf0a49c52eb8f8c859310d28b1e740bc49b93e/grequests-0.3.0.tar.gz\n",
            "Requirement already satisfied: urllib3<1.23,>=1.21.1 in /usr/local/lib/python3.6/dist-packages (from requests->imagenetscraper) (1.22)\n",
            "Requirement already satisfied: chardet<3.1.0,>=3.0.2 in /usr/local/lib/python3.6/dist-packages (from requests->imagenetscraper) (3.0.4)\n",
            "Requirement already satisfied: idna<2.7,>=2.5 in /usr/local/lib/python3.6/dist-packages (from requests->imagenetscraper) (2.6)\n",
            "Requirement already satisfied: certifi>=2017.4.17 in /usr/local/lib/python3.6/dist-packages (from requests->imagenetscraper) (2018.11.29)\n",
            "Requirement already satisfied: olefile in /usr/local/lib/python3.6/dist-packages (from pillow->imagenetscraper) (0.46)\n",
            "Collecting gevent (from grequests->imagenetscraper)\n",
            "\u001b[?25l  Downloading https://files.pythonhosted.org/packages/0b/e5/8bbad57fa8a565e04c696e3413d4051cc3cbb40d04c5d6ad9808ba991d5c/gevent-1.3.7-cp36-cp36m-manylinux1_x86_64.whl (4.5MB)\n",
            "\u001b[K    100% |████████████████████████████████| 4.5MB 5.7MB/s \n",
            "\u001b[?25hCollecting greenlet>=0.4.14; platform_python_implementation == \"CPython\" (from gevent->grequests->imagenetscraper)\n",
            "\u001b[?25l  Downloading https://files.pythonhosted.org/packages/bf/45/142141aa47e01a5779f0fa5a53b81f8379ce8f2b1cd13df7d2f1d751ae42/greenlet-0.4.15-cp36-cp36m-manylinux1_x86_64.whl (41kB)\n",
            "\u001b[K    100% |████████████████████████████████| 51kB 17.9MB/s \n",
            "\u001b[?25hBuilding wheels for collected packages: frogress, grequests\n",
            "  Running setup.py bdist_wheel for frogress ... \u001b[?25l-\b \bdone\n",
            "\u001b[?25h  Stored in directory: /root/.cache/pip/wheels/2e/16/a3/694d34aba3db2000b4497bb0ce3f60f7c593b19c7aa465dad2\n",
            "  Running setup.py bdist_wheel for grequests ... \u001b[?25l-\b \bdone\n",
            "\u001b[?25h  Stored in directory: /root/.cache/pip/wheels/00/3d/90/eb93eb8a1a2fdc6ce52ab85949b867beaed1e255a38a532901\n",
            "Successfully built frogress grequests\n",
            "Installing collected packages: click, frogress, greenlet, gevent, grequests, imagenetscraper\n",
            "Successfully installed click-7.0 frogress-0.9.1 gevent-1.3.7 greenlet-0.4.15 grequests-0.3.0 imagenetscraper-1.0.1\n"
          ],
          "name": "stdout"
        }
      ]
    },
    {
      "metadata": {
        "id": "50Wp4YrH22Rj",
        "colab_type": "code",
        "outputId": "6869f40a-ac98-414a-d564-473152ff5f03",
        "colab": {
          "base_uri": "https://localhost:8080/",
          "height": 129
        }
      },
      "cell_type": "code",
      "source": [
        "from google.colab import drive\n",
        "drive.mount('/content/gdrive')"
      ],
      "execution_count": 0,
      "outputs": [
        {
          "output_type": "stream",
          "text": [
            "Go to this URL in a browser: https://accounts.google.com/o/oauth2/auth?client_id=947318989803-6bn6qk8qdgf4n4g3pfee6491hc0brc4i.apps.googleusercontent.com&redirect_uri=urn%3Aietf%3Awg%3Aoauth%3A2.0%3Aoob&scope=email%20https%3A%2F%2Fwww.googleapis.com%2Fauth%2Fdocs.test%20https%3A%2F%2Fwww.googleapis.com%2Fauth%2Fdrive%20https%3A%2F%2Fwww.googleapis.com%2Fauth%2Fdrive.photos.readonly%20https%3A%2F%2Fwww.googleapis.com%2Fauth%2Fpeopleapi.readonly&response_type=code\n",
            "\n",
            "Enter your authorization code:\n",
            "··········\n",
            "Mounted at /content/gdrive\n"
          ],
          "name": "stdout"
        }
      ]
    },
    {
      "metadata": {
        "id": "fCreJs9qAWmD",
        "colab_type": "code",
        "outputId": "695fec4d-9677-4698-b48f-af159688d20a",
        "colab": {
          "base_uri": "https://localhost:8080/",
          "height": 293
        }
      },
      "cell_type": "code",
      "source": [
        "!imagenetscraper n00446980 '/content/gdrive/My Drive/PWr_AlexNet_data/raw/archery'"
      ],
      "execution_count": 0,
      "outputs": [
        {
          "output_type": "stream",
          "text": [
            "Retrieving synset target id\n",
            "Retrieving image count\n",
            "Retrieving synset index\n",
            "\n",
            "Downloading 1389 images\n",
            "100.0% | [##########] | Progress: 1389 / 1389 | Time: 18.6s | ETA: --\n",
            "\n",
            "Done! If this tool helped with your research, a citation would be appreciated:\n",
            "\n",
            "@Misc{imagenetscraper,\n",
            "author = {Michael Smith},\n",
            "title = {imagenetscraper: Bulk-download thumbnails from ImageNet synsets},\n",
            "howpublished = {\\url{https://github.com/spinda/imagenetscraper}},\n",
            "year = {2017}\n",
            "}\n"
          ],
          "name": "stdout"
        }
      ]
    },
    {
      "metadata": {
        "id": "ZudijZ33Bsqz",
        "colab_type": "code",
        "outputId": "a8bf23bb-2b6d-4725-f217-a1045cb8be0f",
        "colab": {
          "base_uri": "https://localhost:8080/",
          "height": 293
        }
      },
      "cell_type": "code",
      "source": [
        "!imagenetscraper n00445685 '/content/gdrive/My Drive/PWr_AlexNet_data/raw/sculling'"
      ],
      "execution_count": 0,
      "outputs": [
        {
          "output_type": "stream",
          "text": [
            "Retrieving synset target id\n",
            "Retrieving image count\n",
            "Retrieving synset index\n",
            "\n",
            "Downloading 1624 images\n",
            "100.0% | [##########] | Progress: 1624 / 1624 | Time: 23.9s | ETA: --\n",
            "\n",
            "Done! If this tool helped with your research, a citation would be appreciated:\n",
            "\n",
            "@Misc{imagenetscraper,\n",
            "author = {Michael Smith},\n",
            "title = {imagenetscraper: Bulk-download thumbnails from ImageNet synsets},\n",
            "howpublished = {\\url{https://github.com/spinda/imagenetscraper}},\n",
            "year = {2017}\n",
            "}\n"
          ],
          "name": "stdout"
        }
      ]
    },
    {
      "metadata": {
        "id": "RXJDHT3GCIJ0",
        "colab_type": "code",
        "outputId": "f600f99d-1e40-494d-d649-8e590835f73b",
        "colab": {
          "base_uri": "https://localhost:8080/",
          "height": 293
        }
      },
      "cell_type": "code",
      "source": [
        "!imagenetscraper n00326094 '/content/gdrive/My Drive/PWr_AlexNet_data/raw/rock_climbing'"
      ],
      "execution_count": 0,
      "outputs": [
        {
          "output_type": "stream",
          "text": [
            "Retrieving synset target id\n",
            "Retrieving image count\n",
            "Retrieving synset index\n",
            "\n",
            "Downloading 1450 images\n",
            "100.0% | [##########] | Progress: 1450 / 1450 | Time: 21.3s | ETA: --\n",
            "\n",
            "Done! If this tool helped with your research, a citation would be appreciated:\n",
            "\n",
            "@Misc{imagenetscraper,\n",
            "author = {Michael Smith},\n",
            "title = {imagenetscraper: Bulk-download thumbnails from ImageNet synsets},\n",
            "howpublished = {\\url{https://github.com/spinda/imagenetscraper}},\n",
            "year = {2017}\n",
            "}\n"
          ],
          "name": "stdout"
        }
      ]
    },
    {
      "metadata": {
        "id": "MteGuOJGC1bh",
        "colab_type": "code",
        "outputId": "ef1ab9bb-ad0e-4496-f415-c3f887409d55",
        "colab": {
          "base_uri": "https://localhost:8080/",
          "height": 293
        }
      },
      "cell_type": "code",
      "source": [
        "!imagenetscraper n00445055 '/content/gdrive/My Drive/PWr_AlexNet_data/raw/surfing'"
      ],
      "execution_count": 0,
      "outputs": [
        {
          "output_type": "stream",
          "text": [
            "Retrieving synset target id\n",
            "Retrieving image count\n",
            "Retrieving synset index\n",
            "\n",
            "Downloading 2055 images\n",
            "100.0% | [##########] | Progress: 2055 / 2055 | Time: 25.4s | ETA: --\n",
            "\n",
            "Done! If this tool helped with your research, a citation would be appreciated:\n",
            "\n",
            "@Misc{imagenetscraper,\n",
            "author = {Michael Smith},\n",
            "title = {imagenetscraper: Bulk-download thumbnails from ImageNet synsets},\n",
            "howpublished = {\\url{https://github.com/spinda/imagenetscraper}},\n",
            "year = {2017}\n",
            "}\n"
          ],
          "name": "stdout"
        }
      ]
    },
    {
      "metadata": {
        "id": "wSfqY1Sc3Akz",
        "colab_type": "code",
        "outputId": "c9d2ca4a-7f33-4c00-ca9a-58eb190948f1",
        "colab": {
          "base_uri": "https://localhost:8080/",
          "height": 35
        }
      },
      "cell_type": "code",
      "source": [
        "!ls '/content/gdrive/My Drive/PWr_AlexNet_data/raw/'"
      ],
      "execution_count": 0,
      "outputs": [
        {
          "output_type": "stream",
          "text": [
            "archery  rock_climbing\tsculling  surfing\n"
          ],
          "name": "stdout"
        }
      ]
    }
  ]
}