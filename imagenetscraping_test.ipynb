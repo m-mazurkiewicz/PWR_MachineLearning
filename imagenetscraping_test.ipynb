{
  "nbformat": 4,
  "nbformat_minor": 0,
  "metadata": {
    "colab": {
      "name": "imagenetscraping_test.ipynb",
      "version": "0.3.2",
      "provenance": [],
      "include_colab_link": true
    },
    "kernelspec": {
      "name": "python3",
      "display_name": "Python 3"
    }
  },
  "cells": [
    {
      "cell_type": "markdown",
      "metadata": {
        "id": "view-in-github",
        "colab_type": "text"
      },
      "source": [
        "<a href=\"https://colab.research.google.com/github/m-mazurkiewicz/PWR_MachineLearning/blob/marcin/imagenetscraping_test.ipynb\" target=\"_parent\"><img src=\"https://colab.research.google.com/assets/colab-badge.svg\" alt=\"Open In Colab\"/></a>"
      ]
    },
    {
      "metadata": {
        "id": "FOMKQtXuNkC2",
        "colab_type": "code",
        "outputId": "0594208b-2d2a-4332-d8eb-2f6e8c98c8f3",
        "colab": {
          "base_uri": "https://localhost:8080/",
          "height": 600
        }
      },
      "cell_type": "code",
      "source": [
        "!pip3 install imagenetscraper"
      ],
      "execution_count": 1,
      "outputs": [
        {
          "output_type": "stream",
          "text": [
            "Collecting imagenetscraper\n",
            "  Downloading https://files.pythonhosted.org/packages/12/f3/cd60374c220c2149ec50245be50d0a3d1a4fa176a4244e8d498b596e4c4a/imagenetscraper-1.0.1-py3-none-any.whl\n",
            "Collecting frogress (from imagenetscraper)\n",
            "  Downloading https://files.pythonhosted.org/packages/23/1e/d1498145bd80fc0b08cb35eeb1212c664d86efe91426ec83b0637901c0ef/frogress-0.9.1.tar.gz\n",
            "Collecting grequests (from imagenetscraper)\n",
            "  Downloading https://files.pythonhosted.org/packages/25/9f/dff6f21676ca5d3e806e60cf0a49c52eb8f8c859310d28b1e740bc49b93e/grequests-0.3.0.tar.gz\n",
            "Requirement already satisfied: pillow in /usr/local/lib/python3.6/dist-packages (from imagenetscraper) (4.0.0)\n",
            "Requirement already satisfied: defusedxml in /usr/local/lib/python3.6/dist-packages (from imagenetscraper) (0.5.0)\n",
            "Requirement already satisfied: requests in /usr/local/lib/python3.6/dist-packages (from imagenetscraper) (2.18.4)\n",
            "Collecting click (from imagenetscraper)\n",
            "\u001b[?25l  Downloading https://files.pythonhosted.org/packages/fa/37/45185cb5abbc30d7257104c434fe0b07e5a195a6847506c074527aa599ec/Click-7.0-py2.py3-none-any.whl (81kB)\n",
            "\u001b[K    100% |████████████████████████████████| 81kB 4.9MB/s \n",
            "\u001b[?25hCollecting gevent (from grequests->imagenetscraper)\n",
            "\u001b[?25l  Downloading https://files.pythonhosted.org/packages/0b/e5/8bbad57fa8a565e04c696e3413d4051cc3cbb40d04c5d6ad9808ba991d5c/gevent-1.3.7-cp36-cp36m-manylinux1_x86_64.whl (4.5MB)\n",
            "\u001b[K    100% |████████████████████████████████| 4.5MB 6.7MB/s \n",
            "\u001b[?25hRequirement already satisfied: olefile in /usr/local/lib/python3.6/dist-packages (from pillow->imagenetscraper) (0.46)\n",
            "Requirement already satisfied: chardet<3.1.0,>=3.0.2 in /usr/local/lib/python3.6/dist-packages (from requests->imagenetscraper) (3.0.4)\n",
            "Requirement already satisfied: urllib3<1.23,>=1.21.1 in /usr/local/lib/python3.6/dist-packages (from requests->imagenetscraper) (1.22)\n",
            "Requirement already satisfied: certifi>=2017.4.17 in /usr/local/lib/python3.6/dist-packages (from requests->imagenetscraper) (2018.11.29)\n",
            "Requirement already satisfied: idna<2.7,>=2.5 in /usr/local/lib/python3.6/dist-packages (from requests->imagenetscraper) (2.6)\n",
            "Collecting greenlet>=0.4.14; platform_python_implementation == \"CPython\" (from gevent->grequests->imagenetscraper)\n",
            "\u001b[?25l  Downloading https://files.pythonhosted.org/packages/bf/45/142141aa47e01a5779f0fa5a53b81f8379ce8f2b1cd13df7d2f1d751ae42/greenlet-0.4.15-cp36-cp36m-manylinux1_x86_64.whl (41kB)\n",
            "\u001b[K    100% |████████████████████████████████| 51kB 21.9MB/s \n",
            "\u001b[?25hBuilding wheels for collected packages: frogress, grequests\n",
            "  Running setup.py bdist_wheel for frogress ... \u001b[?25l-\b \bdone\n",
            "\u001b[?25h  Stored in directory: /root/.cache/pip/wheels/2e/16/a3/694d34aba3db2000b4497bb0ce3f60f7c593b19c7aa465dad2\n",
            "  Running setup.py bdist_wheel for grequests ... \u001b[?25l-\b \bdone\n",
            "\u001b[?25h  Stored in directory: /root/.cache/pip/wheels/00/3d/90/eb93eb8a1a2fdc6ce52ab85949b867beaed1e255a38a532901\n",
            "Successfully built frogress grequests\n",
            "Installing collected packages: frogress, greenlet, gevent, grequests, click, imagenetscraper\n",
            "Successfully installed click-7.0 frogress-0.9.1 gevent-1.3.7 greenlet-0.4.15 grequests-0.3.0 imagenetscraper-1.0.1\n"
          ],
          "name": "stdout"
        }
      ]
    },
    {
      "metadata": {
        "id": "WmkvF2-INsUG",
        "colab_type": "code",
        "outputId": "f6e0ee69-4029-4671-fc53-9f08d8e17806",
        "colab": {
          "base_uri": "https://localhost:8080/",
          "height": 181
        }
      },
      "cell_type": "code",
      "source": [
        "!imagenetscraper n07756951 watermelon"
      ],
      "execution_count": 2,
      "outputs": [
        {
          "output_type": "stream",
          "text": [
            "Retrieving synset target id\n",
            "Retrieving image count\n",
            "Retrieving synset index\n",
            "\n",
            "Downloading 1353 images\n",
            " 37.7% | [###.......] | Progress: 510 / 1353 | Time: 4min13s | ETA: 6min58sKeyboardInterrupt\n",
            "2018-12-07T11:57:14Z\n",
            "\n",
            "Aborted!\n"
          ],
          "name": "stdout"
        }
      ]
    },
    {
      "metadata": {
        "id": "B_IScDcdSZB6",
        "colab_type": "code",
        "outputId": "81ff1a2c-de8d-4928-8ec0-423060f79dc1",
        "colab": {
          "base_uri": "https://localhost:8080/",
          "height": 35
        }
      },
      "cell_type": "code",
      "source": [
        "!du -sh /content/watermelon"
      ],
      "execution_count": 0,
      "outputs": [
        {
          "output_type": "stream",
          "text": [
            "33M\t/content/watermelon\n"
          ],
          "name": "stdout"
        }
      ]
    },
    {
      "metadata": {
        "id": "x9MGN2MLh-t8",
        "colab_type": "code",
        "colab": {
          "base_uri": "https://localhost:8080/",
          "height": 35
        },
        "outputId": "c126be98-6ea1-4ed6-e591-65ec77d54f06"
      },
      "cell_type": "code",
      "source": [
        "2+7"
      ],
      "execution_count": 3,
      "outputs": [
        {
          "output_type": "execute_result",
          "data": {
            "text/plain": [
              "9"
            ]
          },
          "metadata": {
            "tags": []
          },
          "execution_count": 3
        }
      ]
    }
  ]
}